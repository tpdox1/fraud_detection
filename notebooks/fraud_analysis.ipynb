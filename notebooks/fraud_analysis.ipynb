{
 "cells": [
  {
   "cell_type": "markdown",
   "id": "44effe52",
   "metadata": {},
   "source": [
    "### Первоначальная настройка"
   ]
  },
  {
   "cell_type": "markdown",
   "id": "f24f58a9",
   "metadata": {},
   "source": [
    "Импорт библиотек"
   ]
  },
  {
   "cell_type": "code",
   "execution_count": 1,
   "id": "070c61cf",
   "metadata": {},
   "outputs": [],
   "source": [
    "import pandas as pd\n",
    "import numpy as np\n",
    "import matplotlib.pyplot as plt\n",
    "import matplotlib.patches as mpatches\n",
    "import seaborn as sns\n",
    "\n",
    "from datetime import datetime, timedelta\n",
    "import warnings\n",
    "import os\n",
    "\n",
    "from sklearn.model_selection import train_test_split\n",
    "from sklearn.metrics import f1_score, precision_score, recall_score, roc_auc_score, accuracy_score\n",
    "from sklearn.preprocessing import StandardScaler, LabelEncoder\n",
    "import xgboost as xgb\n",
    "import hdbscan\n",
    "from scipy.stats import mannwhitneyu\n",
    "\n",
    "import mlflow"
   ]
  },
  {
   "cell_type": "markdown",
   "id": "8a90c3bc",
   "metadata": {},
   "source": [
    "Отключение предупеждений"
   ]
  },
  {
   "cell_type": "code",
   "execution_count": 2,
   "id": "51780d89",
   "metadata": {},
   "outputs": [],
   "source": [
    "warnings.filterwarnings('ignore', category=FutureWarning)"
   ]
  },
  {
   "cell_type": "markdown",
   "id": "4c19a5a8",
   "metadata": {},
   "source": [
    "Путь к директориям"
   ]
  },
  {
   "cell_type": "code",
   "execution_count": 3,
   "id": "0837ca02",
   "metadata": {},
   "outputs": [],
   "source": [
    "dir = os.path.abspath('..')\n",
    "data_dir = f'{dir}/data'\n",
    "mlflow_dir = f'{dir}/mlruns'"
   ]
  },
  {
   "cell_type": "markdown",
   "id": "0abeec70",
   "metadata": {},
   "source": [
    "Настройки отображения"
   ]
  },
  {
   "cell_type": "code",
   "execution_count": 4,
   "id": "b469b383",
   "metadata": {},
   "outputs": [],
   "source": [
    "pd.set_option('display.max_columns', 100)\n",
    "sns.set(style='whitegrid')"
   ]
  },
  {
   "cell_type": "markdown",
   "id": "1f55f443",
   "metadata": {},
   "source": [
    "Настройка MLflow"
   ]
  },
  {
   "cell_type": "code",
   "execution_count": 5,
   "id": "5867358d",
   "metadata": {},
   "outputs": [
    {
     "data": {
      "text/plain": [
       "<Experiment: artifact_location='file:////Users/elizaveta/Downloads/fraud_backend/mlruns/653502166279933628', creation_time=1746613653888, experiment_id='653502166279933628', last_update_time=1746613653888, lifecycle_stage='active', name='fraud_analysis_xgbost', tags={}>"
      ]
     },
     "execution_count": 5,
     "metadata": {},
     "output_type": "execute_result"
    }
   ],
   "source": [
    "mlflow.set_tracking_uri(f'file:///{mlflow_dir}')\n",
    "mlflow.set_experiment('fraud_analysis_xgbost')"
   ]
  },
  {
   "cell_type": "markdown",
   "id": "60189ec8",
   "metadata": {},
   "source": [
    "Запуск окружения mlFlow происходит внутри терминала при помощи команды \n",
    "\n",
    "`mlflow ui --backend-store-uri file://$(pwd)/mlflow_local`"
   ]
  },
  {
   "cell_type": "markdown",
   "id": "f79a1d5a",
   "metadata": {},
   "source": [
    "### Загрузка данных"
   ]
  },
  {
   "cell_type": "code",
   "execution_count": 6,
   "id": "1b01d892",
   "metadata": {},
   "outputs": [],
   "source": [
    "train_id = pd.read_parquet(f'{data_dir}/train_identity.parquet.gzip')\n",
    "train_tr = pd.read_parquet(f'{data_dir}/train_transaction.parquet.gzip')\n",
    "\n",
    "test_id = pd.read_parquet(f'{data_dir}/test_identity.parquet.gzip')\n",
    "test_tr = pd.read_parquet(f'{data_dir}/test_transaction.parquet.gzip')"
   ]
  },
  {
   "cell_type": "code",
   "execution_count": 7,
   "id": "3e6c5d74",
   "metadata": {},
   "outputs": [],
   "source": [
    "train = train_tr.merge(train_id, how='left', on='TransactionID')\n",
    "test = test_tr.merge(test_id, how='left', on='TransactionID')"
   ]
  },
  {
   "cell_type": "markdown",
   "id": "ee89d72c",
   "metadata": {},
   "source": [
    "### Разведочный анализ данных - EDA"
   ]
  },
  {
   "cell_type": "markdown",
   "id": "5454d612",
   "metadata": {},
   "source": [
    "Размер датасета"
   ]
  },
  {
   "cell_type": "code",
   "execution_count": 8,
   "id": "9b014f0d",
   "metadata": {},
   "outputs": [
    {
     "name": "stdout",
     "output_type": "stream",
     "text": [
      "Обучающая выборка: \n",
      " количество строк - 1342281 \n",
      " количество столбцов - 434\n",
      "Тестовая выборка: \n",
      " количество строк - 1321087 \n",
      " количество столбцов - 434\n"
     ]
    }
   ],
   "source": [
    "train_rows = train.shape[0]\n",
    "train_columns = train.shape[1]\n",
    "\n",
    "test_rows = test.shape[0]\n",
    "test_columns = test.shape[1]\n",
    "\n",
    "print(f'Обучающая выборка: \\n количество строк - {train_rows} \\n количество столбцов - {train_columns}')\n",
    "print(f'Тестовая выборка: \\n количество строк - {test_rows} \\n количество столбцов - {test_columns}')"
   ]
  },
  {
   "cell_type": "code",
   "execution_count": 9,
   "id": "42bb5712",
   "metadata": {},
   "outputs": [
    {
     "data": {
      "text/plain": [
       "isFraud\n",
       "0    0.960556\n",
       "1    0.039444\n",
       "Name: proportion, dtype: float64"
      ]
     },
     "execution_count": 9,
     "metadata": {},
     "output_type": "execute_result"
    }
   ],
   "source": [
    "train['isFraud'].value_counts(normalize=True)"
   ]
  },
  {
   "cell_type": "markdown",
   "id": "52e95b4e",
   "metadata": {},
   "source": [
    "Тестовая выборка чуть меньше по количеству строк, но в целом их число примерно равно. \n",
    "В тестовой выборке отсутствует столбец isFraud, остальные столбцы одни и те же."
   ]
  },
  {
   "cell_type": "code",
   "execution_count": 10,
   "id": "c3830409",
   "metadata": {},
   "outputs": [
    {
     "data": {
      "text/html": [
       "<div>\n",
       "<style scoped>\n",
       "    .dataframe tbody tr th:only-of-type {\n",
       "        vertical-align: middle;\n",
       "    }\n",
       "\n",
       "    .dataframe tbody tr th {\n",
       "        vertical-align: top;\n",
       "    }\n",
       "\n",
       "    .dataframe thead th {\n",
       "        text-align: right;\n",
       "    }\n",
       "</style>\n",
       "<table border=\"1\" class=\"dataframe\">\n",
       "  <thead>\n",
       "    <tr style=\"text-align: right;\">\n",
       "      <th></th>\n",
       "      <th>Столбец</th>\n",
       "      <th>Пропусков</th>\n",
       "      <th>Процент пропусков</th>\n",
       "    </tr>\n",
       "  </thead>\n",
       "  <tbody>\n",
       "    <tr>\n",
       "      <th>id_24</th>\n",
       "      <td>id_24</td>\n",
       "      <td>1299511</td>\n",
       "      <td>96.8</td>\n",
       "    </tr>\n",
       "    <tr>\n",
       "      <th>id_25</th>\n",
       "      <td>id_25</td>\n",
       "      <td>1296043</td>\n",
       "      <td>96.6</td>\n",
       "    </tr>\n",
       "    <tr>\n",
       "      <th>id_22</th>\n",
       "      <td>id_22</td>\n",
       "      <td>1295710</td>\n",
       "      <td>96.5</td>\n",
       "    </tr>\n",
       "    <tr>\n",
       "      <th>id_26</th>\n",
       "      <td>id_26</td>\n",
       "      <td>1295764</td>\n",
       "      <td>96.5</td>\n",
       "    </tr>\n",
       "    <tr>\n",
       "      <th>id_08</th>\n",
       "      <td>id_08</td>\n",
       "      <td>1295837</td>\n",
       "      <td>96.5</td>\n",
       "    </tr>\n",
       "    <tr>\n",
       "      <th>...</th>\n",
       "      <td>...</td>\n",
       "      <td>...</td>\n",
       "      <td>...</td>\n",
       "    </tr>\n",
       "    <tr>\n",
       "      <th>V311</th>\n",
       "      <td>V311</td>\n",
       "      <td>22</td>\n",
       "      <td>0.0</td>\n",
       "    </tr>\n",
       "    <tr>\n",
       "      <th>V310</th>\n",
       "      <td>V310</td>\n",
       "      <td>22</td>\n",
       "      <td>0.0</td>\n",
       "    </tr>\n",
       "    <tr>\n",
       "      <th>V309</th>\n",
       "      <td>V309</td>\n",
       "      <td>22</td>\n",
       "      <td>0.0</td>\n",
       "    </tr>\n",
       "    <tr>\n",
       "      <th>V308</th>\n",
       "      <td>V308</td>\n",
       "      <td>22</td>\n",
       "      <td>0.0</td>\n",
       "    </tr>\n",
       "    <tr>\n",
       "      <th>TransactionID</th>\n",
       "      <td>TransactionID</td>\n",
       "      <td>0</td>\n",
       "      <td>0.0</td>\n",
       "    </tr>\n",
       "  </tbody>\n",
       "</table>\n",
       "<p>434 rows × 3 columns</p>\n",
       "</div>"
      ],
      "text/plain": [
       "                     Столбец  Пропусков  Процент пропусков\n",
       "id_24                  id_24    1299511               96.8\n",
       "id_25                  id_25    1296043               96.6\n",
       "id_22                  id_22    1295710               96.5\n",
       "id_26                  id_26    1295764               96.5\n",
       "id_08                  id_08    1295837               96.5\n",
       "...                      ...        ...                ...\n",
       "V311                    V311         22                0.0\n",
       "V310                    V310         22                0.0\n",
       "V309                    V309         22                0.0\n",
       "V308                    V308         22                0.0\n",
       "TransactionID  TransactionID          0                0.0\n",
       "\n",
       "[434 rows x 3 columns]"
      ]
     },
     "metadata": {},
     "output_type": "display_data"
    }
   ],
   "source": [
    "missing_stats_train = pd.DataFrame({\n",
    "    'Столбец': train.columns,\n",
    "    'Пропусков': train.isna().sum(),\n",
    "}).assign(\n",
    "    **{'Процент пропусков': lambda x: (x['Пропусков']/ train_rows * 100).round(1)}\n",
    ")\n",
    "\n",
    "missing_stats_train = missing_stats_train.sort_values(by='Процент пропусков', ascending=False)\n",
    "display(missing_stats_train)"
   ]
  },
  {
   "cell_type": "code",
   "execution_count": 11,
   "id": "839f87b5",
   "metadata": {},
   "outputs": [
    {
     "data": {
      "image/png": "[encoded data removed]",
      "text/plain": [
       "<Figure size 1500x800 with 1 Axes>"
      ]
     },
     "metadata": {},
     "output_type": "display_data"
    }
   ],
   "source": [
    "plt.figure(figsize=(15, 8))\n",
    "\n",
    "\n",
    "missing_sorted = missing_stats_train.sort_values('Процент пропусков', ascending=False)\n",
    "\n",
    "colors = np.where(missing_sorted['Процент пропусков'] > 50, 'tomato',\n",
    "                 np.where(missing_sorted['Процент пропусков'] > 10, 'gold',\n",
    "                         'lightgreen'))\n",
    "\n",
    "bars = plt.barh(\n",
    "    y=range(len(missing_sorted)),\n",
    "    width=missing_sorted['Процент пропусков'],\n",
    "    color=colors,\n",
    "    height=1.8 \n",
    ")\n",
    "\n",
    "\n",
    "plt.yticks([])\n",
    "plt.title('Процент пропусков в обучающей выборке', pad=20)\n",
    "plt.xlabel('Процент пропусков (%)')\n",
    "plt.ylabel('Признаки')\n",
    "plt.grid(axis='x', linestyle='--', alpha=0.7)\n",
    "\n",
    "legend_handles = [\n",
    "    mpatches.Patch(color='tomato', label='>50% пропусков'),\n",
    "    mpatches.Patch(color='gold', label='10-50% пропусков'),\n",
    "    mpatches.Patch(color='lightgreen', label='<10% пропусков')\n",
    "]\n",
    "plt.legend(handles=legend_handles, loc='lower right')\n",
    "\n",
    "plt.tight_layout()\n",
    "plt.show()\n"
   ]
  },
  {
   "cell_type": "code",
   "execution_count": 12,
   "id": "c286344d",
   "metadata": {},
   "outputs": [
    {
     "data": {
      "image/png": "[encoded data removed]",
      "text/plain": [
       "<Figure size 800x600 with 1 Axes>"
      ]
     },
     "metadata": {},
     "output_type": "display_data"
    }
   ],
   "source": [
    "plt.figure(figsize=(8, 6))\n",
    "\n",
    "bins = [0, 10, 30, 50, 100]\n",
    "labels = ['<10%', '10–30%', '30–50%', '>50%']\n",
    "missing_sorted['Категория'] = pd.cut(missing_sorted['Процент пропусков'], bins=bins, labels=labels, include_lowest=True)\n",
    "\n",
    "category_counts = missing_sorted['Категория'].value_counts().sort_index()\n",
    "\n",
    "\n",
    "bars = plt.bar(category_counts.index, category_counts.values, color=['#2ecc71', '#f1c40f', '#f39c12', '#e74c3c'])\n",
    "\n",
    "for bar in bars:\n",
    "    yval = bar.get_height()\n",
    "    plt.text(bar.get_x() + bar.get_width()/2.0, yval + 2, int(yval), ha='center', va='bottom', fontsize=10)\n",
    "\n",
    "plt.title('Распределение признаков по доле пропусков', fontsize=14, pad=15)\n",
    "plt.ylabel('Количество признаков')\n",
    "plt.xlabel('Процент пропусков')\n",
    "plt.tight_layout()\n",
    "plt.grid(False)\n",
    "plt.show()\n"
   ]
  },
  {
   "cell_type": "markdown",
   "id": "48dd325e",
   "metadata": {},
   "source": [
    "График позволяет визуально выбрать разумный порог отсечения признаков по доле пропусков — например, оставить только признаки с <30% или <10% пропусков.\n",
    "\n",
    "Ступеньки на графике означают, что несколько признаков имеют одинаковый процент пропусков, что указывает на групповые зависимости, например, если признаки появляются только для определённых типов транзакций. Однако эта гипотеза не проверялась, так как было принято решение исключить все признаки с отсутствующими значениями для упрощения пайплайна обработки и сосредоточения на интерпретируемых и качественно заполненных данных."
   ]
  },
  {
   "cell_type": "markdown",
   "id": "e96d559b",
   "metadata": {},
   "source": [
    "Больше половины признаков содержат более 50% пропущенных значений, тогда как лишь незначительная часть столбцов имеет долю пропусков менее 10%. Это свидетельствует о высоком уровне пропусков в данных и ограниченной возможности для их восстановления без искажения распределений. В целях обеспечения корректного обучения моделей было принято решение исключить из дальнейшего анализа все признаки, оставить все данные без пропусков, исключить все признаки группы V (V1–V339), поскольку они были сгенерированы владельцем данных на основе уже имюещихся, а также проанализировать данные с временными дельтами."
   ]
  },
  {
   "cell_type": "code",
   "execution_count": 13,
   "id": "f6152aa1",
   "metadata": {},
   "outputs": [
    {
     "name": "stdout",
     "output_type": "stream",
     "text": [
      "Признаки без пропусков:\n",
      "1. TransactionID\n",
      "2. isFraud\n",
      "3. TransactionDT\n",
      "4. TransactionAmt\n",
      "5. ProductCD\n",
      "6. card1\n",
      "7. C1\n",
      "8. C2\n",
      "9. C3\n",
      "10. C4\n",
      "11. C5\n",
      "12. C6\n",
      "13. C7\n",
      "14. C8\n",
      "15. C9\n",
      "16. C10\n",
      "17. C11\n",
      "18. C12\n",
      "19. C13\n",
      "20. C14\n"
     ]
    }
   ],
   "source": [
    "no_nans = [col for col in train.columns if train[col].isna().sum() == 0]\n",
    "\n",
    "print('Признаки без пропусков:')\n",
    "for i, col in enumerate(no_nans):\n",
    "    print(f'{i+1}. {col}')"
   ]
  },
  {
   "cell_type": "markdown",
   "id": "9a3bc46a",
   "metadata": {},
   "source": [
    "#### Выделение значимых признаков из колонок временных дельт"
   ]
  },
  {
   "cell_type": "code",
   "execution_count": 14,
   "id": "6de279de",
   "metadata": {},
   "outputs": [
    {
     "data": {
      "image/png": "[encoded data removed]",
      "text/plain": [
       "<Figure size 500x500 with 1 Axes>"
      ]
     },
     "metadata": {},
     "output_type": "display_data"
    }
   ],
   "source": [
    "d_cols_to_check = ['D1', 'D2', 'D3', 'D4', 'D5', 'D6', 'D7', 'D8', 'D9']\n",
    "\n",
    "d_stats = {\n",
    "    'Признак': [],\n",
    "    'Доля пропусков': [],\n",
    "    'Медиана': [],\n",
    "    'Среднее': [],\n",
    "    'Максимум': []\n",
    "}\n",
    "\n",
    "for col in d_cols_to_check:\n",
    "    missing_percent = train[col].isna().mean() * 100\n",
    "    median = train[col].median()\n",
    "    mean = train[col].mean()\n",
    "    maximum = train[col].max()\n",
    "    \n",
    "    d_stats['Признак'].append(col)\n",
    "    d_stats['Доля пропусков'].append(round(missing_percent, 2))\n",
    "    d_stats['Медиана'].append(round(median, 2))\n",
    "    d_stats['Среднее'].append(round(mean, 2))\n",
    "    d_stats['Максимум'].append(round(maximum, 2))\n",
    "\n",
    "df_dstats = pd.DataFrame(d_stats)\n",
    "\n",
    "plt.figure(figsize=(5, 5))\n",
    "ax = sns.heatmap(df_dstats.set_index('Признак')[['Доля пропусков', 'Медиана', 'Среднее', 'Максимум']],\n",
    "            annot=True, fmt='.2f', cmap='Greys', cbar=False)\n",
    "#plt.title('Анализ признаков D1–D9')\n",
    "ax.set_ylabel('') \n",
    "plt.show()\n",
    "\n",
    "\n",
    "df_dstats = pd.DataFrame(d_stats)"
   ]
  },
  {
   "cell_type": "markdown",
   "id": "69634b2e",
   "metadata": {},
   "source": [
    "Из графика видно, что признак D1 практически не содержит пропусков и характеризуется высокой количеством нулевых значений, что может соответствовать мгновенно совершаемым транзакциям. Признаки D6–D9 имеют более 80% пропусков, что затрудняет их использование в модели без предварительной обработки.\n",
    "\n",
    "Особенно выделяется признак D8, имеющий высокие среднее и максимальное значения, существенно превышающие аналогичные показатели других признаков, что может свидетельствовать о наличии выбросов или иной природы измерения. Признак D9 по шкале и распределению существенно отличается от остальных, вероятно, представляя нормализованную долю."
   ]
  },
  {
   "cell_type": "code",
   "execution_count": 15,
   "id": "ae39bbec",
   "metadata": {},
   "outputs": [
    {
     "data": {
      "text/html": [
       "<style type=\"text/css\">\n",
       "</style>\n",
       "<table id=\"T_d5ea8\">\n",
       "  <caption>Результаты U-теста Манна–Уитни по D-признакам</caption>\n",
       "  <thead>\n",
       "    <tr>\n",
       "      <th class=\"blank level0\" >&nbsp;</th>\n",
       "      <th id=\"T_d5ea8_level0_col0\" class=\"col_heading level0 col0\" >U-статистика</th>\n",
       "      <th id=\"T_d5ea8_level0_col1\" class=\"col_heading level0 col1\" >p-value</th>\n",
       "      <th id=\"T_d5ea8_level0_col2\" class=\"col_heading level0 col2\" >AUC (эффект)</th>\n",
       "      <th id=\"T_d5ea8_level0_col3\" class=\"col_heading level0 col3\" >Медиана (fraud)</th>\n",
       "      <th id=\"T_d5ea8_level0_col4\" class=\"col_heading level0 col4\" >Медиана (non-fraud)</th>\n",
       "    </tr>\n",
       "  </thead>\n",
       "  <tbody>\n",
       "    <tr>\n",
       "      <th id=\"T_d5ea8_level0_row0\" class=\"row_heading level0 row0\" >D1</th>\n",
       "      <td id=\"T_d5ea8_row0_col0\" class=\"data row0 col0\" >27557838994.0</td>\n",
       "      <td id=\"T_d5ea8_row0_col1\" class=\"data row0 col1\" >0.0</td>\n",
       "      <td id=\"T_d5ea8_row0_col2\" class=\"data row0 col2\" >0.4055</td>\n",
       "      <td id=\"T_d5ea8_row0_col3\" class=\"data row0 col3\" >0.00</td>\n",
       "      <td id=\"T_d5ea8_row0_col4\" class=\"data row0 col4\" >1.00</td>\n",
       "    </tr>\n",
       "    <tr>\n",
       "      <th id=\"T_d5ea8_level0_row1\" class=\"row_heading level0 row1\" >D6</th>\n",
       "      <td id=\"T_d5ea8_row1_col0\" class=\"data row1 col0\" >2171970383.0</td>\n",
       "      <td id=\"T_d5ea8_row1_col1\" class=\"data row1 col1\" >0.0</td>\n",
       "      <td id=\"T_d5ea8_row1_col2\" class=\"data row1 col2\" >0.5130</td>\n",
       "      <td id=\"T_d5ea8_row1_col3\" class=\"data row1 col3\" >0.00</td>\n",
       "      <td id=\"T_d5ea8_row1_col4\" class=\"data row1 col4\" >0.00</td>\n",
       "    </tr>\n",
       "    <tr>\n",
       "      <th id=\"T_d5ea8_level0_row2\" class=\"row_heading level0 row2\" >D7</th>\n",
       "      <td id=\"T_d5ea8_row2_col0\" class=\"data row2 col0\" >568133456.5</td>\n",
       "      <td id=\"T_d5ea8_row2_col1\" class=\"data row2 col1\" >0.0</td>\n",
       "      <td id=\"T_d5ea8_row2_col2\" class=\"data row2 col2\" >0.3515</td>\n",
       "      <td id=\"T_d5ea8_row2_col3\" class=\"data row2 col3\" >0.00</td>\n",
       "      <td id=\"T_d5ea8_row2_col4\" class=\"data row2 col4\" >0.00</td>\n",
       "    </tr>\n",
       "    <tr>\n",
       "      <th id=\"T_d5ea8_level0_row3\" class=\"row_heading level0 row3\" >D8</th>\n",
       "      <td id=\"T_d5ea8_row3_col0\" class=\"data row3 col0\" >1409102281.5</td>\n",
       "      <td id=\"T_d5ea8_row3_col1\" class=\"data row3 col1\" >0.0</td>\n",
       "      <td id=\"T_d5ea8_row3_col2\" class=\"data row3 col2\" >0.3127</td>\n",
       "      <td id=\"T_d5ea8_row3_col3\" class=\"data row3 col3\" >2.25</td>\n",
       "      <td id=\"T_d5ea8_row3_col4\" class=\"data row3 col4\" >50.54</td>\n",
       "    </tr>\n",
       "  </tbody>\n",
       "</table>\n"
      ],
      "text/plain": [
       "<pandas.io.formats.style.Styler at 0x16af31550>"
      ]
     },
     "metadata": {},
     "output_type": "display_data"
    }
   ],
   "source": [
    "d_cols_use = ['D1', 'D6', 'D7', 'D8']\n",
    "\n",
    "results = {}\n",
    "for col in d_cols_use:\n",
    "    fraud = train.loc[train['isFraud'] == 1, col].dropna()\n",
    "    non_fraud = train.loc[train['isFraud'] == 0, col].dropna()\n",
    "    \n",
    "    stat, p = mannwhitneyu(fraud, non_fraud, alternative='two-sided')\n",
    "    auc = stat / (len(fraud) * len(non_fraud))\n",
    "    \n",
    "    results[col] = {\n",
    "        'U-статистика': stat,\n",
    "        'p-value': p,\n",
    "        'AUC (эффект)': auc,\n",
    "        'Медиана (fraud)': fraud.median(),\n",
    "        'Медиана (non-fraud)': non_fraud.median()\n",
    "    }\n",
    "\n",
    "df = pd.DataFrame(results).T\n",
    "df_formatted = df.copy()\n",
    "df_formatted['U-статистика'] = df['U-статистика'].round(1)\n",
    "df_formatted['p-value'] = df['p-value'].round(4)\n",
    "df_formatted['AUC (эффект)'] = df['AUC (эффект)'].round(4)\n",
    "df_formatted['Медиана (fraud)'] = df['Медиана (fraud)'].round(2)\n",
    "df_formatted['Медиана (non-fraud)'] = df['Медиана (non-fraud)'].round(2)\n",
    "\n",
    "display(df_formatted.style.set_caption('Результаты U-теста Манна–Уитни по D-признакам')\n",
    "        .format({\n",
    "            'U-статистика': '{:.1f}',\n",
    "            'p-value': '{:.1f}',\n",
    "            'AUC (эффект)': '{:.4f}',\n",
    "            'Медиана (fraud)': '{:.2f}',\n",
    "            'Медиана (non-fraud)': '{:.2f}'\n",
    "        }))\n",
    "        \n",
    "\n",
    "\n"
   ]
  },
  {
   "cell_type": "markdown",
   "id": "4ce1b9a6",
   "metadata": {},
   "source": [
    "Признак D1 включён как почти полностью заполненный и потенциально важный, D6, D7 и D8 продемонстрировали важные свойства распределения, в связи с чем, признаки были оставлены для проверки статистической значимости. Остальные признаки D-группы либо имели схожую структуру с уже анализируемыми, либо не соответствовали масштабу временных дельт и потому не были протестированы отдельно.\n",
    "\n",
    "Для проверки корреляции отобранных временных дельт с целевой переменной isFraud был использован Критерий Манна-Уитни, так как отобранные данные не нормализованы, присутствуют выбросы, распределения не нормальны, а также целевая переменная бинарна.\n",
    "\n",
    "Интрепретация результатов U-теста:\n",
    "- если p-value < 0.05, то распределения значимо различаются, следовательно, признак полезен для обнаружения фрода.\n",
    "- если AUC > 0.5, то для переменной мошеннических значений больше, чем немошеннических, если AUC < 0.5, тогда наоборот: для переменной немошеннических значений больше, чем мошеннических, если AUC = 0.5, тогда нет различий.\n",
    "\n",
    "**D1**\n",
    "- p_valye ≈ 0, ледовательно, значение значимое\n",
    "- AUC ≈ 0.4, следовательно, легитимых транзакций больше, чем фрода\n",
    "- медиана для фрода 0 секунд, медиана для не фрода 4 секунды, следовательно, фродовые транзакции происходят быстрее, чем легальные\n",
    "Вывод: D1 значимый признак \n",
    "\n",
    "**D6**\n",
    "- p_valye ≈ 0.5, cледовательно, значение значимое\n",
    "- AUC ≈ 0.5, следовательно, различий практически нет\n",
    "- разницы в медианах между фродовыми и легитимными транзакциями нет\n",
    "Вывод: D6 можно исключить, так как у него слабая предсказательная сила AUC\n",
    "\n",
    "\n",
    "**D7**\n",
    "- p_valye ≈ 0 cледовательно, значение значимое\n",
    "- AUC ≈ 0.35, следовательно, легитимых транзакций больше, чем фрода\n",
    "- разницы в медианах между фродовыми и легитимными транзакциями нет\n",
    "Вывод: D7 значимый признак\n",
    "\n",
    "\n",
    "**D8**\n",
    "- p_valye ≈ 0 cледовательно, значение значимое\n",
    "- AUC ≈ 0.3, следовательно, легитимых транзакций больше, чем фрода\n",
    "- медиана для фрода 2,3 секунд, медиана для не фрода 50,6 секунды, следовательно, фродовые транзакции происходят быстрее, чем легальные\n",
    "Вывод: D8 значимый признак\n"
   ]
  },
  {
   "cell_type": "markdown",
   "id": "d6d70cf2",
   "metadata": {},
   "source": [
    "#### Преобразование дат и выделение новых признаков"
   ]
  },
  {
   "cell_type": "code",
   "execution_count": 16,
   "id": "fdb7c117",
   "metadata": {},
   "outputs": [],
   "source": [
    "START_DATE = datetime(2017, 11, 30)  \n",
    "train['TransactionDT'] = train['TransactionDT'].astype(int)\n",
    "train['TransactionDate'] = train['TransactionDT'].apply(lambda x: START_DATE + timedelta(seconds=x))\n",
    "train['Transaction_day'] = train['TransactionDate'].dt.day\n",
    "train['Transaction_month'] = train['TransactionDate'].dt.month\n",
    "train['Transaction_weekday'] = train['TransactionDate'].dt.weekday\n",
    "train['Transaction_hour'] = train['TransactionDate'].dt.hour"
   ]
  },
  {
   "cell_type": "code",
   "execution_count": 17,
   "id": "20f656c2",
   "metadata": {},
   "outputs": [],
   "source": [
    "def get_time_of_day(hour):\n",
    "    if 0 <= hour < 6:\n",
    "        return '0'\n",
    "    elif 6 <= hour < 12:\n",
    "        return '1'\n",
    "    elif 12 <= hour < 18:\n",
    "        return '2'\n",
    "    else:\n",
    "        return '3'\n",
    "\n",
    "train['Transaction_part_of_day'] = train['Transaction_hour'].apply(get_time_of_day)"
   ]
  },
  {
   "cell_type": "code",
   "execution_count": 18,
   "id": "132174e0",
   "metadata": {},
   "outputs": [
    {
     "name": "stdout",
     "output_type": "stream",
     "text": [
      "Числовые признаки: ['TransactionAmt', 'C1', 'C2', 'C3', 'C4', 'C5', 'C6', 'C7', 'C8', 'C9', 'C10', 'C11', 'C12', 'C13', 'C14', 'D1']\n",
      "Категориальные признаки: ['DeviceType', 'DeviceInfo', 'ProductCD', 'card1', 'card2', 'card3', 'card4', 'card5', 'card6', 'addr1', 'addr2', 'P_emaildomain', 'R_emaildomain']\n",
      "Бинарные признаки: ['M1', 'M2', 'M3', 'M4', 'M5', 'M6', 'M7', 'M8', 'M9']\n",
      "Временные признаки: ['TransactionDT', 'TransactionDate', 'Transaction_day', 'Transaction_month', 'Transaction_weekday', 'Transaction_hour', 'Transaction_part_of_day']\n"
     ]
    }
   ],
   "source": [
    "all_columns = train.columns\n",
    "\n",
    "categorical_features = [\n",
    "    'DeviceType', 'DeviceInfo', \n",
    "    'ProductCD', \n",
    "    'card1', 'card2', 'card3', 'card4', 'card5', 'card6', \n",
    "    'addr1', 'addr2', \n",
    "    'P_emaildomain', 'R_emaildomain'\n",
    "]\n",
    "\n",
    "numerical_features = [\n",
    "    'TransactionAmt', \n",
    "    'C1', 'C2', 'C3', 'C4', 'C5', 'C6', 'C7', 'C8', 'C9', 'C10', 'C11', 'C12', 'C13', 'C14',\n",
    "    'D1'\n",
    "]\n",
    "\n",
    "binary_features = [\n",
    "    'M1', 'M2', 'M3', 'M4', 'M5', 'M6', 'M7', 'M8', 'M9'\n",
    "]\n",
    "\n",
    "date_features = [\n",
    "    'TransactionDT', 'TransactionDate', 'Transaction_day', 'Transaction_month', 'Transaction_weekday', 'Transaction_hour', 'Transaction_part_of_day'\n",
    "]\n",
    "\n",
    "id_features = ['TransactionID']\n",
    "\n",
    "\n",
    "print(f'Числовые признаки: {numerical_features}')\n",
    "print(f'Категориальные признаки: {categorical_features}')\n",
    "print(f'Бинарные признаки: {binary_features}')\n",
    "print(f'Временные признаки: {date_features}')"
   ]
  },
  {
   "cell_type": "markdown",
   "id": "7245aedf",
   "metadata": {},
   "source": [
    "### Создание цепочек с помощью HDBSCAN"
   ]
  },
  {
   "cell_type": "markdown",
   "id": "638cd101",
   "metadata": {},
   "source": [
    "Кластеризация через HDBSCAN\n",
    "\n",
    "- автоматическое определение количества кластеров,\n",
    "- работа с кластерами произвольной формы,\n",
    "- поиск выбросов"
   ]
  },
  {
   "cell_type": "code",
   "execution_count": 19,
   "id": "3c7b3bfc",
   "metadata": {},
   "outputs": [],
   "source": [
    "train['user_id'] = train[['card1', 'card2', 'card3', 'card4', 'card5', 'card6']].astype(str).agg('_'.join, axis=1)\n",
    "train = train.sort_values(by=['user_id', 'TransactionDT'])"
   ]
  },
  {
   "cell_type": "code",
   "execution_count": null,
   "id": "afd85d46",
   "metadata": {},
   "outputs": [],
   "source": [
    "train = train.copy()\n",
    "train['chain_id'] = np.nan\n",
    "\n",
    "chain_id_counter = 0\n",
    "\n",
    "for user_id, group in train.groupby('user_id'):\n",
    "\n",
    "    if len(group) == 1:\n",
    "        train.loc[group.index, 'chain_id'] = chain_id_counter\n",
    "        chain_id_counter += 1\n",
    "        continue\n",
    "\n",
    "    X_time = group[['TransactionDT']].astype(float)\n",
    "    X_scaled = StandardScaler().fit_transform(X_time)\n",
    "\n",
    "    try:\n",
    "        clusterer = hdbscan.HDBSCAN(min_cluster_size=2)\n",
    "        labels = clusterer.fit_predict(X_scaled)\n",
    "\n",
    "        for label in set(labels):\n",
    "            if label != -1:\n",
    "                train.loc[group.index[labels == label], 'chain_id'] = chain_id_counter\n",
    "                chain_id_counter += 1\n",
    "\n",
    "        train.loc[group.index[labels == -1], 'chain_id'] = chain_id_counter\n",
    "        chain_id_counter += 1\n",
    "\n",
    "    except ValueError as e:\n",
    "        print(f'Ошибка в user_id={user_id}: {e}')\n",
    "        continue\n"
   ]
  },
  {
   "cell_type": "code",
   "execution_count": null,
   "id": "7d36c2ce",
   "metadata": {},
   "outputs": [
    {
     "name": "stdout",
     "output_type": "stream",
     "text": [
      "Всего цепочек: 345971\n",
      "Среднее количество транзакций в цепочке: 3.88\n",
      "Максимум транзакций в одной цепочке: 1678\n",
      "Минимум транзакций в одной цепочке: 1\n",
      "Доля транзакций, попавших в цепочки: 100.00%\n",
      "Доля фродовых транзакций среди цепочек: 3.94%\n",
      "Доля нормальных транзакций среди цепочек: 96.06%\n"
     ]
    }
   ],
   "source": [
    "chain_stats = train.dropna(subset=['chain_id'])\n",
    "\n",
    "chain_stats['chain_id'] = train['chain_id'].astype(int)\n",
    "\n",
    "chain_sizes = chain_stats.groupby('chain_id').size()\n",
    "\n",
    "total_chains = chain_sizes.shape[0]\n",
    "avg_tx_per_chain = chain_sizes.mean()\n",
    "max_tx_per_chain = chain_sizes.max()\n",
    "min_tx_per_chain = chain_sizes.min()\n",
    "percent_of_total = len(chain_stats) / len(train) * 100\n",
    "\n",
    "fraud_transactions = chain_stats[chain_stats['isFraud'] == 1]\n",
    "normal_transactions = chain_stats[chain_stats['isFraud'] == 0]\n",
    "\n",
    "percent_fraud = len(fraud_transactions) / len(chain_stats) * 100\n",
    "percent_normal = len(normal_transactions) / len(chain_stats) * 100\n",
    "\n",
    "print(f'Всего цепочек: {total_chains}')\n",
    "print(f'Среднее количество транзакций в цепочке: {avg_tx_per_chain:.2f}')\n",
    "print(f'Максимум транзакций в одной цепочке: {max_tx_per_chain}')\n",
    "print(f'Минимум транзакций в одной цепочке: {min_tx_per_chain}')\n",
    "print(f'Доля транзакций, попавших в цепочки: {percent_of_total:.2f}%')\n",
    "print(f'Доля фродовых транзакций среди цепочек: {percent_fraud:.2f}%')\n",
    "print(f'Доля нормальных транзакций среди цепочек: {percent_normal:.2f}%')\n"
   ]
  },
  {
   "cell_type": "code",
   "execution_count": null,
   "id": "a5e447b0",
   "metadata": {},
   "outputs": [
    {
     "name": "stdout",
     "output_type": "stream",
     "text": [
      "Фродовых цепочек: 18381 (5.31%)\n",
      "Легитимных цепочек: 327590 (94.69%)\n"
     ]
    }
   ],
   "source": [
    "# Определим фродовые цепочки: хотя бы одна транзакция с isFraud = 1\n",
    "fraud_chains = chain_stats.groupby('chain_id')['isFraud'].max().reset_index()\n",
    "fraud_chains['is_fraud_chain'] = fraud_chains['isFraud'] == 1\n",
    "\n",
    "# Подсчитаем\n",
    "n_fraud_chains = fraud_chains['is_fraud_chain'].sum()\n",
    "n_total_chains = fraud_chains.shape[0]\n",
    "n_legit_chains = n_total_chains - n_fraud_chains\n",
    "\n",
    "# Доли\n",
    "percent_fraud_chains = n_fraud_chains / n_total_chains * 100\n",
    "percent_legit_chains = n_legit_chains / n_total_chains * 100\n",
    "\n",
    "print(f'Фродовых цепочек: {n_fraud_chains} ({percent_fraud_chains:.2f}%)')\n",
    "print(f'Легитимных цепочек: {n_legit_chains} ({percent_legit_chains:.2f}%)')\n"
   ]
  },
  {
   "cell_type": "markdown",
   "id": "a1a05515",
   "metadata": {},
   "source": [
    "Все транзакции были сгруппированы в 345 971 цепочку, при этом среднее число операций в одной цепочке составило 3.88. Минимальная длина цепочки — 1, максимальная — 1678. Доля фродовых транзакций среди всех составила 3.94%, что сопоставимо с общим уровнем фрода в выборке, и подтверждает корректность кластеризации."
   ]
  },
  {
   "cell_type": "code",
   "execution_count": null,
   "id": "b59c90d0",
   "metadata": {},
   "outputs": [
    {
     "data": {
      "image/png": "[encoded data removed]",
      "text/plain": [
       "<Figure size 800x600 with 1 Axes>"
      ]
     },
     "metadata": {},
     "output_type": "display_data"
    }
   ],
   "source": [
    "chain_sizes = chain_stats.groupby('chain_id').size().reset_index(name='chain_length')\n",
    "chain_fraud = chain_stats.groupby('chain_id')['isFraud'].max().reset_index()\n",
    "chain_info = chain_sizes.merge(chain_fraud, on='chain_id')\n",
    "\n",
    "plt.figure(figsize=(8, 6))\n",
    "sns.boxplot(x='isFraud', y='chain_length', data=chain_info, showfliers=False, palette='Set2')\n",
    "#plt.title('Сравнение легитимных и фродовых цепочек')\n",
    "plt.xlabel('0 - легитимная цепочка, 1 - мошенническая цепочка')\n",
    "plt.ylabel('Количество транзакций в цепочке')\n",
    "plt.grid(False)\n",
    "plt.tight_layout()\n",
    "plt.show()\n"
   ]
  },
  {
   "cell_type": "markdown",
   "id": "4503d4cf",
   "metadata": {},
   "source": [
    "Видно, что фродовые цепочки в среднем немного длиннее и характеризуются более высокой вариативностью. Это может свидетельствовать о том, что мошенники совершают серии транзакций, объединённые по платёжным средствам и временным признакам.\n",
    "На основании этой информации признак `chain_length` может быть использован в качестве одного из факторов в модели машинного обучения."
   ]
  },
  {
   "cell_type": "markdown",
   "id": "b6ed5d7b",
   "metadata": {},
   "source": [
    "### Обучение моделей"
   ]
  },
  {
   "cell_type": "markdown",
   "id": "77ba04dc",
   "metadata": {},
   "source": [
    "Установка названия эксперимента"
   ]
  },
  {
   "cell_type": "code",
   "execution_count": null,
   "id": "514ede88",
   "metadata": {},
   "outputs": [
    {
     "data": {
      "text/plain": [
       "<Experiment: artifact_location='file:////Users/elizaveta/Downloads/fraud_backend_full/mlruns/216605230211250643', creation_time=1746447653877, experiment_id='216605230211250643', last_update_time=1746447653877, lifecycle_stage='active', name='notebook_fraud_detection', tags={}>"
      ]
     },
     "execution_count": 22,
     "metadata": {},
     "output_type": "execute_result"
    }
   ],
   "source": [
    "mlflow.set_experiment('notebook_fraud_detection')"
   ]
  },
  {
   "cell_type": "markdown",
   "id": "feb25a9d",
   "metadata": {},
   "source": [
    "Кодирование цепочек по card1-6"
   ]
  },
  {
   "cell_type": "code",
   "execution_count": null,
   "id": "19c75ac6",
   "metadata": {},
   "outputs": [],
   "source": [
    "le_chain = LabelEncoder()\n",
    "train['chain_id'] = le_chain.fit_transform(train['chain_id'])"
   ]
  },
  {
   "cell_type": "markdown",
   "id": "915d5512",
   "metadata": {},
   "source": [
    "Агрегация цепочек"
   ]
  },
  {
   "cell_type": "code",
   "execution_count": null,
   "id": "d93b2a66",
   "metadata": {},
   "outputs": [
    {
     "name": "stdout",
     "output_type": "stream",
     "text": [
      "   chain_id  chain_amt_mean  chain_amt_sum  chain_amt_std  chain_trans_count  \\\n",
      "0         0       29.000000      58.000000            0.0                  2   \n",
      "1         1       39.394001     118.182007            0.0                  3   \n",
      "2         2       19.093000      57.278999            0.0                  3   \n",
      "3         3       10.755000      21.510000            0.0                  2   \n",
      "4         4       19.093000     114.557999            0.0                  6   \n",
      "\n",
      "   chain_D1_mean  chain_D1_sum  chain_D1_std  chain_fraud_rate  \\\n",
      "0           83.0         166.0           0.0               0.0   \n",
      "1            7.0          21.0           0.0               0.0   \n",
      "2           10.0          30.0           0.0               0.0   \n",
      "3            9.0          18.0           0.0               0.0   \n",
      "4            9.0          54.0           0.0               0.0   \n",
      "\n",
      "   chain_fraud_sum  isFraud_chain  \n",
      "0                0              0  \n",
      "1                0              0  \n",
      "2                0              0  \n",
      "3                0              0  \n",
      "4                0              0  \n"
     ]
    }
   ],
   "source": [
    "chain_agg = train.groupby('chain_id').agg({\n",
    "    'TransactionAmt': ['mean', 'sum', 'std'],\n",
    "    'TransactionID': 'count',\n",
    "    'D1': ['mean', 'sum', 'std'],\n",
    "    'isFraud': ['mean', 'sum']\n",
    "}).reset_index()\n",
    "\n",
    "chain_agg.columns = ['chain_id', \n",
    "                     'chain_amt_mean', 'chain_amt_sum', 'chain_amt_std',\n",
    "                     'chain_trans_count',\n",
    "                     'chain_D1_mean', 'chain_D1_sum', 'chain_D1_std',\n",
    "                     'chain_fraud_rate', 'chain_fraud_sum']\n",
    "chain_agg['isFraud_chain'] = (chain_agg['chain_fraud_sum'] > 0).astype(int)\n",
    "\n",
    "print(chain_agg.head())"
   ]
  },
  {
   "cell_type": "markdown",
   "id": "2e3542d7",
   "metadata": {},
   "source": [
    "Соединение статистических данных с общей тестовой выборкой"
   ]
  },
  {
   "cell_type": "code",
   "execution_count": null,
   "id": "af35d31a",
   "metadata": {},
   "outputs": [
    {
     "name": "stdout",
     "output_type": "stream",
     "text": [
      "ProductCD\n",
      "card1\n",
      "card2\n",
      "card3\n",
      "card4\n",
      "card5\n",
      "card6\n",
      "addr1\n",
      "addr2\n",
      "P_emaildomain\n",
      "R_emaildomain\n",
      "DeviceType\n",
      "DeviceInfo\n"
     ]
    }
   ],
   "source": [
    "train_transaction = train.merge(chain_agg, on='chain_id', how='left')\n",
    "\n",
    "mapping = {'T': 1, 'F': 0, None: -999, np.nan: -999} \n",
    "\n",
    "for col in train_transaction.columns:\n",
    "    if col in categorical_features:\n",
    "        print(col)\n",
    "        le = LabelEncoder()\n",
    "        train_transaction[col] = train_transaction[col].fillna('missing').astype(str)\n",
    "        train_transaction[col] = le.fit_transform(train_transaction[col])\n",
    "        #joblib.dump(le, f'encoders/{col}.pkl')\n",
    "    if col in binary_features:\n",
    "        train_transaction[col] = train_transaction[col].map(mapping)\n"
   ]
  },
  {
   "cell_type": "markdown",
   "id": "4ac66918",
   "metadata": {},
   "source": [
    "Обучение модели по отдельным транзакциям"
   ]
  },
  {
   "cell_type": "code",
   "execution_count": null,
   "id": "df963eca",
   "metadata": {},
   "outputs": [
    {
     "name": "stdout",
     "output_type": "stream",
     "text": [
      "TransactionAmt    float32\n",
      "C1                float32\n",
      "C2                float32\n",
      "C3                float32\n",
      "C4                float32\n",
      "C5                float32\n",
      "C6                float32\n",
      "C7                float32\n",
      "C8                float32\n",
      "C9                float32\n",
      "C10               float32\n",
      "C11               float32\n",
      "C12               float32\n",
      "C13               float32\n",
      "C14               float32\n",
      "D1                float32\n",
      "DeviceType          int64\n",
      "DeviceInfo          int64\n",
      "ProductCD           int64\n",
      "card1               int64\n",
      "card2               int64\n",
      "card3               int64\n",
      "card4               int64\n",
      "card5               int64\n",
      "card6               int64\n",
      "addr1               int64\n",
      "addr2               int64\n",
      "P_emaildomain       int64\n",
      "R_emaildomain       int64\n",
      "M1                  int64\n",
      "M2                  int64\n",
      "M3                  int64\n",
      "M4                float64\n",
      "M5                  int64\n",
      "M6                  int64\n",
      "M7                  int64\n",
      "M8                  int64\n",
      "M9                  int64\n",
      "dtype: object\n"
     ]
    },
    {
     "name": "stderr",
     "output_type": "stream",
     "text": [
      "/Users/elizaveta/Downloads/fraud_backend_full/venv/lib/python3.13/site-packages/xgboost/sklearn.py:1028: UserWarning: [14:27:56] WARNING: /Users/runner/work/xgboost/xgboost/src/c_api/c_api.cc:1427: Saving model in the UBJSON format as default.  You can use file extension: `json`, `ubj` or `deprecated` to choose between formats.\n",
      "  self.get_booster().save_model(fname)\n",
      "\u001b[31m2025/05/05 14:27:58 WARNING mlflow.models.model: Model logged without a signature and input example. Please set `input_example` parameter when logging the model to auto infer the model signature.\u001b[0m\n"
     ]
    },
    {
     "name": "stdout",
     "output_type": "stream",
     "text": [
      "Model transaction — AUC: 0.9934701452437689\n"
     ]
    }
   ],
   "source": [
    "features_transaction = [col for col in (numerical_features + categorical_features + binary_features)]\n",
    "X_transaction = train_transaction[features_transaction]\n",
    "y_transaction = train_transaction['isFraud']\n",
    "\n",
    "X_train_transaction, X_test_transaction, y_train_transaction, y_test_transaction = train_test_split(X_transaction, y_transaction, test_size=0.25, random_state=42, stratify=y_transaction)\n",
    "\n",
    "print(X_train_transaction.dtypes)\n",
    "\n",
    "\n",
    "with mlflow.start_run(run_name='model_transaction'):\n",
    "    params_transaction = {\n",
    "        'max_depth': 10,\n",
    "        'learning_rate': 0.1,\n",
    "        'n_estimators': 4000,\n",
    "        'subsample': 0.8,\n",
    "        'colsample_bytree': 0.5,\n",
    "        'missing': -1,\n",
    "        'random_state': 42,\n",
    "        'eval_metric': 'auc'\n",
    "    }\n",
    "\n",
    "    mlflow.log_params(params_transaction)\n",
    "\n",
    "    model_transaction = xgb.XGBClassifier(**params_transaction)\n",
    "    model_transaction.fit(X_train_transaction, y_train_transaction)\n",
    "\n",
    "    mlflow.xgboost.log_model(model_transaction, 'model_transaction')\n",
    "\n",
    "    y_pred = model_transaction.predict(X_test_transaction)\n",
    "    y_proba = model_transaction.predict_proba(X_test_transaction)[:, 1]\n",
    "\n",
    "    metrics_transaction = {\n",
    "        'auc': roc_auc_score(y_test_transaction, y_proba),\n",
    "        'accuracy': accuracy_score(y_test_transaction, y_pred),\n",
    "        'fraud_precision': precision_score(y_test_transaction, y_pred, pos_label=1),\n",
    "        'fraud_recall': recall_score(y_test_transaction, y_pred, pos_label=1),\n",
    "        'fraud_f1': f1_score(y_test_transaction, y_pred, pos_label=1),\n",
    "    }\n",
    "\n",
    "    mlflow.log_metrics(metrics_transaction)\n",
    "\n",
    "    importances = model_transaction.feature_importances_\n",
    "    feature_importances_df = pd.DataFrame({\n",
    "        'Feature': X_train_transaction.columns,\n",
    "        'Importance': importances\n",
    "    }).sort_values(by='Importance', ascending=False)\n",
    "\n",
    "    plt.figure(figsize=(12, 8))\n",
    "    sns.barplot(x='Importance', y='Feature', data=feature_importances_df.head(50))\n",
    "    plt.title('Топ-50 важных признаков (model_transaction)')\n",
    "    plot_path_transaction = 'feature_importance_transaction.png'\n",
    "    plt.savefig(plot_path_transaction)\n",
    "    plt.close()\n",
    "\n",
    "    mlflow.log_artifact(plot_path_transaction)\n",
    "    feature_importances_df.head(20).to_csv('top_features_transaction.csv', index=False)\n",
    "    mlflow.log_artifact('top_features_transaction.csv')\n",
    "\n",
    "    print('Model transaction — AUC:', metrics_transaction['auc'])\n",
    "    #print(classification_report(y_test_transaction, y_pred))\n"
   ]
  },
  {
   "cell_type": "markdown",
   "id": "a9dfb700",
   "metadata": {},
   "source": [
    "Обучение модели по цепочкам транзакций"
   ]
  },
  {
   "cell_type": "code",
   "execution_count": null,
   "id": "00c44c95",
   "metadata": {},
   "outputs": [
    {
     "name": "stderr",
     "output_type": "stream",
     "text": [
      "/Users/elizaveta/Downloads/fraud_backend_full/venv/lib/python3.13/site-packages/xgboost/sklearn.py:1028: UserWarning: [14:28:39] WARNING: /Users/runner/work/xgboost/xgboost/src/c_api/c_api.cc:1427: Saving model in the UBJSON format as default.  You can use file extension: `json`, `ubj` or `deprecated` to choose between formats.\n",
      "  self.get_booster().save_model(fname)\n",
      "\u001b[31m2025/05/05 14:28:41 WARNING mlflow.models.model: Model logged without a signature and input example. Please set `input_example` parameter when logging the model to auto infer the model signature.\u001b[0m\n"
     ]
    },
    {
     "name": "stdout",
     "output_type": "stream",
     "text": [
      "Model chain - AUC: 0.9959659312191594\n"
     ]
    }
   ],
   "source": [
    "X_chain = chain_agg[['chain_id', \n",
    "                     'chain_amt_mean', 'chain_amt_sum', 'chain_amt_std',\n",
    "                     'chain_trans_count',\n",
    "                     'chain_D1_mean', 'chain_D1_sum', 'chain_D1_std']]\n",
    "\n",
    "y_chain = chain_agg['isFraud_chain']\n",
    "\n",
    "with mlflow.start_run(run_name='model_chain'):\n",
    "    params_chain = {\n",
    "        'max_depth': 10,\n",
    "        'learning_rate': 0.1,\n",
    "        'n_estimators': 4000,\n",
    "        'subsample': 0.8,\n",
    "        'colsample_bytree': 0.5,\n",
    "        'missing': -1,\n",
    "        'random_state': 42,\n",
    "        'eval_metric': 'auc'\n",
    "    }\n",
    "\n",
    "    metrics_transaction = {\n",
    "        'auc': roc_auc_score(y_test_transaction, y_proba),\n",
    "        'accuracy': accuracy_score(y_test_transaction, y_pred),\n",
    "        'fraud_precision': precision_score(y_test_transaction, y_pred, pos_label=1),\n",
    "        'fraud_recall': recall_score(y_test_transaction, y_pred, pos_label=1),\n",
    "        'fraud_f1': f1_score(y_test_transaction, y_pred, pos_label=1),\n",
    "    }\n",
    "\n",
    "    mlflow.log_params(params_chain)\n",
    "    mlflow.log_metrics(metrics_transaction)\n",
    "\n",
    "    model_chain = xgb.XGBClassifier(**params_chain)\n",
    "    model_chain.fit(X_chain, y_chain)\n",
    "\n",
    "    mlflow.xgboost.log_model(model_chain, 'model_chain')\n",
    "\n",
    "    y_chain_proba = model_chain.predict_proba(X_chain)[:, 1]\n",
    "    auc_chain = roc_auc_score(y_chain, y_chain_proba)\n",
    "    mlflow.log_metric('auc_chain', auc_chain)\n",
    "\n",
    "    print('Model chain - AUC:', auc_chain)\n"
   ]
  },
  {
   "cell_type": "markdown",
   "id": "d5072e42",
   "metadata": {},
   "source": [
    "Возвращение вероятности цепочки в train_transaction"
   ]
  },
  {
   "cell_type": "code",
   "execution_count": null,
   "id": "249bc007",
   "metadata": {},
   "outputs": [],
   "source": [
    "chain_agg['chain_proba'] = y_chain_proba\n",
    "train_transaction = train_transaction.merge(chain_agg[['chain_id', 'chain_proba']], on='chain_id', how='left')\n"
   ]
  },
  {
   "cell_type": "markdown",
   "id": "9a11973d",
   "metadata": {},
   "source": [
    "Обучение финальной модели"
   ]
  },
  {
   "cell_type": "code",
   "execution_count": null,
   "id": "d0ba0f49",
   "metadata": {},
   "outputs": [
    {
     "name": "stderr",
     "output_type": "stream",
     "text": [
      "/Users/elizaveta/Downloads/fraud_backend_full/venv/lib/python3.13/site-packages/xgboost/training.py:183: UserWarning: [14:28:52] WARNING: /Users/runner/work/xgboost/xgboost/src/learner.cc:738: \n",
      "Parameters: { \"k_neighbors\", \"smote_sampling_strategy\" } are not used.\n",
      "\n",
      "  bst.update(dtrain, iteration=i, fobj=obj)\n",
      "/Users/elizaveta/Downloads/fraud_backend_full/venv/lib/python3.13/site-packages/xgboost/sklearn.py:1028: UserWarning: [14:36:07] WARNING: /Users/runner/work/xgboost/xgboost/src/c_api/c_api.cc:1427: Saving model in the UBJSON format as default.  You can use file extension: `json`, `ubj` or `deprecated` to choose between formats.\n",
      "  self.get_booster().save_model(fname)\n",
      "\u001b[31m2025/05/05 14:36:09 WARNING mlflow.models.model: Model logged without a signature and input example. Please set `input_example` parameter when logging the model to auto infer the model signature.\u001b[0m\n"
     ]
    },
    {
     "name": "stdout",
     "output_type": "stream",
     "text": [
      "Model final — AUC: 0.999385792472869\n"
     ]
    }
   ],
   "source": [
    "features_final = features_transaction + ['chain_proba']\n",
    "X_final = train_transaction[features_final]\n",
    "y_final = train_transaction['isFraud']\n",
    "\n",
    "\n",
    "X_train_final, X_test_final, y_train_final, y_test_final = train_test_split(X_final, y_final, test_size=0.25, stratify=y_final, random_state=42)\n",
    "\n",
    "with mlflow.start_run(run_name='model_final'):\n",
    "    params_final = {\n",
    "        'max_depth': 10,\n",
    "        'learning_rate': 0.1,\n",
    "        'n_estimators': 4000,\n",
    "        'subsample': 0.8,\n",
    "        'colsample_bytree': 0.5,\n",
    "        'missing': -1,\n",
    "        'random_state': 42,\n",
    "        'eval_metric': 'auc',\n",
    "        'smote_sampling_strategy': 'auto',\n",
    "        'k_neighbors': 5,\n",
    "        'n_jobs': 1\n",
    "    }\n",
    "\n",
    "    mlflow.log_params(params_final)\n",
    "\n",
    "    model_final = xgb.XGBClassifier(**params_final)\n",
    "    model_final.fit(X_train_final, y_train_final)\n",
    "\n",
    "\n",
    "    mlflow.xgboost.log_model(model_final, 'model_final')\n",
    "\n",
    "    y_pred_final = model_final.predict(X_test_final)\n",
    "    y_proba_final = model_final.predict_proba(X_test_final)[:, 1]\n",
    "\n",
    "    metrics_final = {\n",
    "        'auc': roc_auc_score(y_test_final, y_proba_final),\n",
    "        'accuracy': accuracy_score(y_test_final, y_pred_final),\n",
    "        'fraud_precision': precision_score(y_test_final, y_pred_final, pos_label=1),\n",
    "        'fraud_recall': recall_score(y_test_final, y_pred_final, pos_label=1),\n",
    "        'fraud_f1': f1_score(y_test_final, y_pred_final, pos_label=1),\n",
    "    }\n",
    "\n",
    "    mlflow.log_metrics(metrics_final)\n",
    "\n",
    "    importances_final = model_final.feature_importances_\n",
    "    fi_final = pd.DataFrame({\n",
    "        'Feature': X_train_final.columns,\n",
    "        'Importance': importances_final\n",
    "    }).sort_values(by='Importance', ascending=False)\n",
    "\n",
    "    plt.figure(figsize=(12, 8))\n",
    "    sns.barplot(x='Importance', y='Feature', data=fi_final.head(50))\n",
    "    plt.title('Топ-50 признаков (model_final)')\n",
    "    plot_path_final = 'feature_importance_final.png'\n",
    "    plt.savefig(plot_path_final)\n",
    "    plt.close()\n",
    "\n",
    "    mlflow.log_artifact(plot_path_final)\n",
    "    fi_final.head(20).to_csv('top_features_final.csv', index=False)\n",
    "    mlflow.log_artifact('top_features_final.csv')\n",
    "\n",
    "    print('Model final — AUC:', metrics_final['auc'])\n"
   ]
  },
  {
   "cell_type": "code",
   "execution_count": null,
   "id": "3219f193",
   "metadata": {},
   "outputs": [
    {
     "data": {
      "image/png": "[encoded data removed]",
      "text/plain": [
       "<Figure size 640x480 with 1 Axes>"
      ]
     },
     "metadata": {},
     "output_type": "display_data"
    }
   ],
   "source": [
    "metrics = ['fraud_f1', 'fraud_recall', 'fraud_precision']\n",
    "\n",
    "model_transaction = [metrics_transaction[m] for m in metrics]\n",
    "model_final = [metrics_final[m] for m in metrics]\n",
    "\n",
    "x = range(len(metrics))\n",
    "width = 0.35\n",
    "\n",
    "fig, ax = plt.subplots()\n",
    "bars1 = ax.bar([i - width/2 for i in x], model_transaction, width=width, label='model_transaction', color='#A1C9F4')\n",
    "bars2 = ax.bar([i + width/2 for i in x], model_final, width=width, label='model_final', color='#FFB482')\n",
    "\n",
    "for bars in [bars1, bars2]:\n",
    "    for bar in bars:\n",
    "        height = bar.get_height()\n",
    "        ax.annotate(f'{height:.3f}',\n",
    "                    xy=(bar.get_x() + bar.get_width() / 2, height),\n",
    "                    xytext=(0, 3),\n",
    "                    textcoords='offset points',\n",
    "                    ha='center', va='bottom', fontsize=8)\n",
    "\n",
    "ax.set_xticks(list(x))\n",
    "ax.set_xticklabels(['F1-score', 'Recall', 'Precision']) \n",
    "ax.set_ylim(0.85, 1.01)\n",
    "ax.set_ylabel('Значение метрики')\n",
    "ax.set_title('Сравнение метрик моделей')\n",
    "ax.legend()\n",
    "plt.tight_layout()\n",
    "plt.show()\n"
   ]
  }
 ],
 "metadata": {
  "kernelspec": {
   "display_name": "venv",
   "language": "python",
   "name": "python3"
  },
  "language_info": {
   "codemirror_mode": {
    "name": "ipython",
    "version": 3
   },
   "file_extension": ".py",
   "mimetype": "text/x-python",
   "name": "python",
   "nbconvert_exporter": "python",
   "pygments_lexer": "ipython3",
   "version": "3.13.2"
  }
 },
 "nbformat": 4,
 "nbformat_minor": 5
}
